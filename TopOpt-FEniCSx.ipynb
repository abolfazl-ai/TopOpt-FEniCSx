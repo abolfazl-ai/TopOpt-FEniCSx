{
 "cells": [
  {
   "cell_type": "code",
   "execution_count": 1,
   "id": "56942a689a146f1c",
   "metadata": {
    "ExecuteTime": {
     "end_time": "2025-04-06T09:57:23.269358Z",
     "start_time": "2025-04-06T09:57:19.193720Z"
    }
   },
   "outputs": [],
   "source": [
    "import dolfinx\n",
    "import numpy as np\n",
    "from mpi4py import MPI\n",
    "import matplotlib.pyplot as plt\n",
    "from IPython.display import clear_output\n",
    "from ufl import dot, sym, grad, tr, inner, dx\n",
    "from ufl import Identity, Measure, TrialFunction, TestFunction\n",
    "from dolfinx.fem import functionspace, form, Function, Constant, Expression\n",
    "from dolfinx.fem import dirichletbc, locate_dofs_topological, assemble_vector\n",
    "from dolfinx.mesh import locate_entities_boundary, meshtags\n",
    "from dolfinx.io.gmshio import read_from_msh\n",
    "from dolfinx.fem.petsc import LinearProblem\n",
    "from dolfinx.mesh import compute_midpoints\n",
    "from scipy.spatial import KDTree"
   ]
  },
  {
   "cell_type": "markdown",
   "id": "70e7dff47ba18d6f",
   "metadata": {},
   "source": [
    "# Utility plot function"
   ]
  },
  {
   "cell_type": "code",
   "execution_count": 2,
   "id": "197b27a83daa2efc",
   "metadata": {
    "ExecuteTime": {
     "end_time": "2025-04-06T09:57:53.052678Z",
     "start_time": "2025-04-06T09:57:52.953924Z"
    }
   },
   "outputs": [],
   "source": [
    "def plot(coordinates, values, title):\n",
    "    plt.figure(figsize=(10, 5))\n",
    "    plt.scatter(coordinates[0], coordinates[1], 20, values, 's', 'grey', vmin=0, vmax=1)\n",
    "    plt.title(title)\n",
    "    plt.axis('off')\n",
    "    plt.show()"
   ]
  },
  {
   "cell_type": "markdown",
   "id": "b51308b36466393f",
   "metadata": {},
   "source": [
    "# Reading the mesh\n",
    "The mesh is generated using [Gmsh](https://gmsh.info)."
   ]
  },
  {
   "cell_type": "code",
   "execution_count": 3,
   "id": "a57bb4517b032eec",
   "metadata": {
    "ExecuteTime": {
     "end_time": "2025-04-06T09:57:56.323697Z",
     "start_time": "2025-04-06T09:57:55.819048Z"
    }
   },
   "outputs": [
    {
     "name": "stdout",
     "output_type": "stream",
     "text": [
      "Info    : Reading 'domain.msh'...\n",
      "Info    : 9 entities\n",
      "Info    : 5151 nodes\n",
      "Info    : 5004 elements\n",
      "Info    : Done reading 'domain.msh'\n"
     ]
    }
   ],
   "source": [
    "domain, _, _ = read_from_msh('domain.msh', MPI.COMM_WORLD)\n",
    "dim, facets_dim = domain.geometry.dim, domain.topology.dim - 1\n",
    "num_cells = domain.topology.index_map(domain.topology.dim).size_local\n",
    "midpoints = compute_midpoints(domain, domain.topology.dim, np.arange(num_cells))"
   ]
  },
  {
   "cell_type": "markdown",
   "id": "efa1eb17e06a083f",
   "metadata": {},
   "source": [
    "# Problem Parameters\n",
    "SIMP penalty parameter, prescribed volume fraction, lame parameters, and the filter radius"
   ]
  },
  {
   "cell_type": "code",
   "execution_count": 4,
   "id": "f9b8b9f5a3fb1ca8",
   "metadata": {
    "ExecuteTime": {
     "end_time": "2025-04-06T09:57:54.327747Z",
     "start_time": "2025-04-06T09:57:54.321276Z"
    }
   },
   "outputs": [],
   "source": [
    "p = 3\n",
    "volume_fraction = 0.4\n",
    "lame_lambda, lame_mu = 1.25, 1\n",
    "r = 0.02"
   ]
  },
  {
   "cell_type": "markdown",
   "id": "923933828813b481",
   "metadata": {},
   "source": [
    "# Boundary Conditions\n",
    "The problem under consideration is the mid-loaded cantilever beam.\n",
    "\n",
    "<img src=\"images/Problem.png\" alt=\"Mid-loaded cantilever beam\" width=\"300\"/>"
   ]
  },
  {
   "cell_type": "markdown",
   "id": "14c1133d540fa50d",
   "metadata": {},
   "source": [
    "## Dirichlet Boundary Conditions"
   ]
  },
  {
   "cell_type": "code",
   "execution_count": 5,
   "id": "9160498d4a1f382f",
   "metadata": {
    "ExecuteTime": {
     "end_time": "2025-04-01T22:07:05.788755Z",
     "start_time": "2025-04-01T22:07:05.783052Z"
    }
   },
   "outputs": [],
   "source": [
    "def dirichlet_boundary(x):\n",
    "    return np.isclose(x[0], 0, atol=0.05)\n",
    "\n",
    "\n",
    "dirichlet_value = dolfinx.default_scalar_type((0, 0, 0))"
   ]
  },
  {
   "cell_type": "markdown",
   "id": "a86bef0e2344d4fd",
   "metadata": {},
   "source": [
    "## Neumann Boundary Conditions"
   ]
  },
  {
   "cell_type": "code",
   "execution_count": 6,
   "id": "8faf9cffd7fc05a4",
   "metadata": {
    "ExecuteTime": {
     "end_time": "2025-04-01T22:07:05.871932Z",
     "start_time": "2025-04-01T22:07:05.867240Z"
    }
   },
   "outputs": [],
   "source": [
    "def neumann_boundary(x):\n",
    "    return np.logical_and(np.isclose(x[0], 1, atol=0.05),\n",
    "                          np.isclose(x[1], 0.25, atol=0.05))\n",
    "\n",
    "\n",
    "neumann_value = dolfinx.default_scalar_type((0, -1, 0))"
   ]
  },
  {
   "cell_type": "markdown",
   "id": "e5f838d7098377ab",
   "metadata": {},
   "source": [
    "## Body Force"
   ]
  },
  {
   "cell_type": "code",
   "execution_count": 7,
   "id": "91f15ede3864c17f",
   "metadata": {
    "ExecuteTime": {
     "end_time": "2025-04-01T22:07:05.915978Z",
     "start_time": "2025-04-01T22:07:05.911537Z"
    }
   },
   "outputs": [],
   "source": [
    "body_force_value = dolfinx.default_scalar_type((0, 0, 0))"
   ]
  },
  {
   "cell_type": "markdown",
   "id": "979fd86617665921",
   "metadata": {},
   "source": [
    "# Formulating the PDE"
   ]
  },
  {
   "cell_type": "markdown",
   "id": "4d39913d2e15be91",
   "metadata": {},
   "source": [
    "## Continuous Function Space"
   ]
  },
  {
   "cell_type": "code",
   "execution_count": 8,
   "id": "83982509bbdb8d29",
   "metadata": {
    "ExecuteTime": {
     "end_time": "2025-04-01T22:07:06.038011Z",
     "start_time": "2025-04-01T22:07:06.030972Z"
    }
   },
   "outputs": [],
   "source": [
    "CG1 = functionspace(domain, ('CG', 1, (dim,)))\n",
    "u = TrialFunction(CG1)\n",
    "v = TestFunction(CG1)"
   ]
  },
  {
   "cell_type": "markdown",
   "id": "853764fba47be9e8",
   "metadata": {},
   "source": [
    "## Discrete Function Space"
   ]
  },
  {
   "cell_type": "code",
   "execution_count": 9,
   "id": "7606c495085a61d5",
   "metadata": {
    "ExecuteTime": {
     "end_time": "2025-04-01T22:07:06.097994Z",
     "start_time": "2025-04-01T22:07:06.091513Z"
    }
   },
   "outputs": [],
   "source": [
    "DG0 = functionspace(domain, ('DG', 0))\n",
    "energy = Function(DG0, name='StrainEnergy')\n",
    "rho = Function(DG0, name='Density')\n",
    "rho.x.array[:] = volume_fraction"
   ]
  },
  {
   "cell_type": "markdown",
   "id": "269a22b0ffe2068c",
   "metadata": {},
   "source": [
    "## Boundary Conditions"
   ]
  },
  {
   "cell_type": "code",
   "execution_count": 10,
   "id": "610401f097e333d8",
   "metadata": {
    "ExecuteTime": {
     "end_time": "2025-04-01T22:07:06.219756Z",
     "start_time": "2025-04-01T22:07:06.210428Z"
    }
   },
   "outputs": [],
   "source": [
    "dirichlet_facets = locate_entities_boundary(domain, facets_dim, dirichlet_boundary)\n",
    "dirichlet_dofs = locate_dofs_topological(CG1, facets_dim, dirichlet_facets)\n",
    "dirichlet_bc = dirichletbc(dirichlet_value, dirichlet_dofs, CG1)"
   ]
  },
  {
   "cell_type": "code",
   "execution_count": 11,
   "id": "f6c8925614c02d1",
   "metadata": {
    "ExecuteTime": {
     "end_time": "2025-04-01T22:07:06.276143Z",
     "start_time": "2025-04-01T22:07:06.270666Z"
    }
   },
   "outputs": [],
   "source": [
    "neumann_facets = locate_entities_boundary(domain, facets_dim, neumann_boundary)\n",
    "facet_values = np.ones(len(neumann_facets), dtype=np.int32)\n",
    "facet_tags = meshtags(domain, facets_dim, neumann_facets, facet_values)\n",
    "ds = Measure('ds', domain=domain, subdomain_data=facet_tags)\n",
    "neumann_bc = Constant(domain, neumann_value)"
   ]
  },
  {
   "cell_type": "code",
   "execution_count": 12,
   "id": "b5beae6ae13d86dd",
   "metadata": {
    "ExecuteTime": {
     "end_time": "2025-04-01T22:07:06.334343Z",
     "start_time": "2025-04-01T22:07:06.329958Z"
    }
   },
   "outputs": [],
   "source": [
    "body_force = Constant(domain, body_force_value)"
   ]
  },
  {
   "cell_type": "markdown",
   "id": "b7045385e350b7e8",
   "metadata": {},
   "source": [
    "## Strain\n",
    "\n",
    "$\\epsilon = \\frac{1}{2} \\left( \\nabla u + (\\nabla u)^T \\right)$"
   ]
  },
  {
   "cell_type": "code",
   "execution_count": 13,
   "id": "1116bdb36e4101bd",
   "metadata": {
    "ExecuteTime": {
     "end_time": "2025-04-01T22:07:05.976691Z",
     "start_time": "2025-04-01T22:07:05.971336Z"
    }
   },
   "outputs": [],
   "source": [
    "def epsilon(u):\n",
    "    return sym(grad(u))"
   ]
  },
  {
   "cell_type": "markdown",
   "id": "f0596b7a05be20fe",
   "metadata": {},
   "source": [
    "## Stress\n",
    "\n",
    "$\\sigma = \\rho \\left( \\lambda \\operatorname{tr} (\\epsilon) I + 2\\mu \\epsilon \\right)$"
   ]
  },
  {
   "cell_type": "code",
   "execution_count": 14,
   "id": "a7616e05d1bc9dc7",
   "metadata": {},
   "outputs": [],
   "source": [
    "def sigma(rho, u):\n",
    "    return rho * (lame_lambda * tr(epsilon(u)) * Identity(len(u)) + 2 * lame_mu * epsilon(u))"
   ]
  },
  {
   "cell_type": "markdown",
   "id": "cee0b9d4273a4107",
   "metadata": {},
   "source": [
    "## Energy\n",
    "\n",
    "$\\psi = \\int_{\\Omega} \\sigma(\\rho, u) : \\epsilon(u) \\, dx$"
   ]
  },
  {
   "cell_type": "code",
   "execution_count": 15,
   "id": "bc6c34797df116d4",
   "metadata": {},
   "outputs": [],
   "source": [
    "def psi(rho, u, v):\n",
    "    return inner(sigma(rho, u), epsilon(v))"
   ]
  },
  {
   "cell_type": "markdown",
   "id": "cf8589d9fb502c52",
   "metadata": {},
   "source": [
    "## The Weak Form\n",
    "\n",
    "$\\int_{\\Omega} \\sigma (\\rho, u) : \\epsilon (v) \\, dx = \\int_{\\Gamma} T \\cdot v \\, ds + \\int_{\\Omega} f \\cdot v \\, dx$"
   ]
  },
  {
   "cell_type": "code",
   "execution_count": 16,
   "id": "9036aa531d89b1f5",
   "metadata": {
    "ExecuteTime": {
     "end_time": "2025-04-01T22:07:06.397145Z",
     "start_time": "2025-04-01T22:07:06.381102Z"
    }
   },
   "outputs": [],
   "source": [
    "bilinear_form = psi(rho, u, v) * dx\n",
    "linear_form = dot(body_force, v) * dx + dot(neumann_bc, v) * ds(1)\n",
    "problem = LinearProblem(bilinear_form, linear_form, bcs=[dirichlet_bc],\n",
    "                        petsc_options={'ksp_type': 'preonly', 'pc_type': 'cholesky'})"
   ]
  },
  {
   "cell_type": "markdown",
   "id": "be43eb2c06887491",
   "metadata": {},
   "source": [
    "# Filter\n",
    "\n",
    "$\\phi_i = \\frac{\\sum{\\omega_j \\phi_j}}{\\sum{\\omega_j}}$\n",
    "\n",
    "where $\\omega$ is the weight of nearby elements.\n",
    "\n",
    "<img src=\"images/Filter.png\" alt=\"The filter function\" width=\"500\"/>"
   ]
  },
  {
   "cell_type": "code",
   "execution_count": 17,
   "id": "e9a129273626481c",
   "metadata": {
    "ExecuteTime": {
     "end_time": "2025-04-01T22:07:05.654909Z",
     "start_time": "2025-04-01T22:07:05.648643Z"
    }
   },
   "outputs": [],
   "source": [
    "def prepare_filter(coords, r):\n",
    "    tree = KDTree(coords)\n",
    "    distance = tree.sparse_distance_matrix(tree, r).tocsr()\n",
    "    distance.data = (r - distance.data) / r\n",
    "    return distance, np.array(distance.sum(1)).flatten()"
   ]
  },
  {
   "cell_type": "code",
   "execution_count": 18,
   "id": "249497ee5996693d",
   "metadata": {
    "ExecuteTime": {
     "end_time": "2025-04-01T22:07:05.775712Z",
     "start_time": "2025-04-01T22:07:05.708597Z"
    }
   },
   "outputs": [],
   "source": [
    "omega, omega_sum = prepare_filter(midpoints, r)"
   ]
  },
  {
   "cell_type": "markdown",
   "id": "c42908ca4d237d83",
   "metadata": {},
   "source": [
    "# Volume of the cells"
   ]
  },
  {
   "cell_type": "code",
   "execution_count": 19,
   "id": "587b56304096da8b",
   "metadata": {
    "ExecuteTime": {
     "end_time": "2025-04-01T22:07:06.159811Z",
     "start_time": "2025-04-01T22:07:06.150831Z"
    }
   },
   "outputs": [],
   "source": [
    "volume = TestFunction(DG0)\n",
    "volume_vector = assemble_vector(form(volume * dx))\n",
    "volume_vector.scatter_forward()\n",
    "cell_volumes = volume_vector.array\n",
    "total_volume = cell_volumes.sum()"
   ]
  },
  {
   "cell_type": "markdown",
   "id": "23644aa894aebd6a",
   "metadata": {},
   "source": [
    "# Optimization\n",
    "\n",
    "$\\begin{aligned} & \\underset{\\rho}{\\text{minimize}} \\quad \\psi = \\int_{\\Omega} \\sigma(\\rho, u) : \\epsilon(u) \\, dx \\\\ & \\text{subject to} \\quad \\int_{\\Omega} \\rho \\, dV \\leq \\bar{V} \\end{aligned}$\n",
    "\n",
    "where $\\rho$ is interpolated using SIMP.\n",
    "\n",
    "$\\rho(\\hat{\\rho}) = \\hat{\\rho}^p$"
   ]
  },
  {
   "cell_type": "code",
   "execution_count": 20,
   "id": "2c3a0fba619f41f2",
   "metadata": {},
   "outputs": [
    {
     "data": {
      "image/png": "[encoded data removed]",
      "text/plain": [
       "<Figure size 1000x500 with 1 Axes>"
      ]
     },
     "metadata": {},
     "output_type": "display_data"
    }
   ],
   "source": [
    "losses = []\n",
    "x = np.full(num_cells, volume_fraction)\n",
    "for epoch in range(100):\n",
    "    rho.x.array[:] = (x ** p).flatten()  # SIMP Interpolation\n",
    "    disp = problem.solve()  # Finite Element Analysis\n",
    "\n",
    "    # Objective Function\n",
    "    energy_exp = Expression(psi(rho, disp, disp), DG0.element.interpolation_points())\n",
    "    energy.interpolate(energy_exp)\n",
    "    losses.append(energy.x.array.sum())\n",
    "\n",
    "    # Sensitivity Analysis\n",
    "    sensitivity = - p * (x ** (p - 1)) * energy.x.array\n",
    "    # Filtering the Sensitivity\n",
    "    sensitivity = (omega @ sensitivity) / omega_sum\n",
    "\n",
    "    # Optimality Criteria Method\n",
    "    ocp = x * np.sqrt(-sensitivity / cell_volumes)\n",
    "    l1, l2, move = 0, ocp.sum(), 0.2\n",
    "    while (l2 - l1) > 1e-4:\n",
    "        l_mid = 0.5 * (l2 + l1)\n",
    "        x = (ocp / l_mid).clip(x - move, x + move).clip(0.01, 1)\n",
    "        volume = (x * cell_volumes).sum() / total_volume\n",
    "        l1, l2 = (l_mid, l2) if volume > volume_fraction else (l1, l_mid)\n",
    "\n",
    "    clear_output(True)\n",
    "    title = f'Epoch {epoch:03}:   Relative Strain Energy = {losses[-1] / losses[0]:0.3f},   Volume Fraction = {volume:0.3f}'\n",
    "    plot(midpoints.T, 1 - x, title)\n",
    "\n",
    "    # Checking for Convergence\n",
    "    if np.logical_and(0.15 < x, x < 0.85).sum() / num_cells < 1e-2: break"
   ]
  },
  {
   "cell_type": "code",
   "execution_count": null,
   "id": "23f2857ab09814db",
   "metadata": {},
   "outputs": [],
   "source": []
  }
 ],
 "metadata": {
  "kernelspec": {
   "display_name": "Python 3 (ipykernel)",
   "language": "python",
   "name": "python3"
  },
  "language_info": {
   "codemirror_mode": {
    "name": "ipython",
    "version": 3
   },
   "file_extension": ".py",
   "mimetype": "text/x-python",
   "name": "python",
   "nbconvert_exporter": "python",
   "pygments_lexer": "ipython3",
   "version": "3.12.9"
  }
 },
 "nbformat": 4,
 "nbformat_minor": 5
}
